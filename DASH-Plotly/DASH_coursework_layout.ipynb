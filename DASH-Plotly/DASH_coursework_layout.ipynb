{
 "cells": [
  {
   "cell_type": "markdown",
   "metadata": {},
   "source": [
    "# <span style=\"color:red\"> Dash</span> "
   ]
  },
  {
   "cell_type": "code",
   "execution_count": 15,
   "metadata": {},
   "outputs": [
    {
     "name": "stdout",
     "output_type": "stream",
     "text": [
      "3.6.4 |Anaconda custom (64-bit)| (default, Jan 16 2018, 10:22:32) [MSC v.1900 64 bit (AMD64)]\n"
     ]
    }
   ],
   "source": [
    "import sys\n",
    "print(sys.version)"
   ]
  },
  {
   "cell_type": "markdown",
   "metadata": {},
   "source": [
    "# Dash Basics- Layout"
   ]
  },
  {
   "cell_type": "markdown",
   "metadata": {},
   "source": [
    "**Dash Layouts -Part 1**\n",
    "* Set up html header, html div using `dash_html_components` (describe layout of the page)\n",
    "* `dash_core_components` used to create a bar plot (for graphs/plots)\n",
    "\n",
    "**Dash Layouts -Part 2: Styling**\n",
    "* Set up a color for background and a color for text\n",
    "* Text aligning\n",
    "* Layout styling \n",
    "* Background color\n",
    "\n",
    "**Converting Simple Plotly Plot to a Dashboard with Dash**\n",
    "* Set up Dash framework, pass plotly plot code inside\n",
    "* Plot multiple plotly plot in a DASH dashboard (be mindful to change id values)"
   ]
  },
  {
   "cell_type": "markdown",
   "metadata": {},
   "source": [
    "# DashBoard- Exercise"
   ]
  },
  {
   "cell_type": "markdown",
   "metadata": {},
   "source": [
    "* Combine Dash and Plotly to get a scatter plot"
   ]
  },
  {
   "cell_type": "markdown",
   "metadata": {},
   "source": [
    "# DashBoard Components"
   ]
  },
  {
   "cell_type": "markdown",
   "metadata": {},
   "source": [
    "**HTML components**\n",
    "* `html.div` for any text.\n",
    "* How to use `css` components to `style` them\n",
    "    * **color | border | border width | height | Width**\n",
    "    \n",
    "**CORE components**  [Link](https://dash.plot.ly/dash-core-components)\n",
    " *   **Gold mine for Dropbown (Multi-select dropdown) | slider | radio | button**\n",
    " *   Add `html.label` for labelling each component\n",
    " *   Each component can be inserted into a `html.div` call and then we can alter their styling\n",
    " *   OR we can insert `html.P` to insert a line for proper spacing\n",
    "    \n",
    "**Markdown with DASH**\n",
    "\n",
    "\n",
    "**Using `Help()` with Dash**\n",
    "* To know documentation on `html.Div`, use `print(help(html.div))` to see it's documentation\n",
    "\n"
   ]
  },
  {
   "cell_type": "markdown",
   "metadata": {},
   "source": [
    "# Interactive components\n",
    "**Single callbacks for interactivity**\n",
    "* `callbacks` interacts and connects to html and core components \n",
    "\n",
    "\n",
    "**Dash callbacks for graphs**\n",
    "* `graph` and `drop down`\n",
    "\n",
    "\n",
    "**Multiple Inputs**\n",
    "* Scatter plot and 2 `drop down`\n",
    "* Scatter plot and 2 `drop down` amd a `radio buttons` and `slider` \\\\complicated\\\\\n",
    "\n",
    "\n",
    "**Multiple Outputs**\n",
    "* Unlike `input` where we can stack multiple input together in a list, for `output` we need separate `callback decorator`"
   ]
  },
  {
   "cell_type": "markdown",
   "metadata": {},
   "source": [
    "# Controlling Callbacks with DASH state\n",
    "* Using **submit button** and using **State**"
   ]
  },
  {
   "cell_type": "markdown",
   "metadata": {},
   "source": [
    "# Interacting with Visualizations\n",
    "* **Hover over Data** `'hoverData'`\n",
    " * Here we learn how to get what data user is hovering over in json mode \n",
    " * We hover over a point and it leads to an image\n",
    " \n",
    " \n",
    "* **Click Data** `'clickData'`\n",
    " * Instead of hovering, only when we click on a point it leads to an image\n",
    " \n",
    " \n",
    "* **Selected Data** `'selectedData'`\n",
    "* will NOT demonstrate anything on hovering or clicking. We have to use **box** or **Lasso** select on the dashboard\n",
    "* Return density of points over the selected area\n",
    "* Alternatively return the json file format dictionary of the points in the selected area\n",
    "\n",
    "\n",
    " \n",
    "* **Updating Graphs on Interactions 1 - 3**\n",
    "* Make a Dashboard graph\n",
    "* Based on user hovering data, update a new graph\n",
    "* **Put each graph in its own `html.Div()` **"
   ]
  },
  {
   "cell_type": "markdown",
   "metadata": {},
   "source": [
    "# Code Along milestone project\n",
    "* Multiselect dropdown\n",
    "* DatePickRanger\n",
    "* Submit button\n",
    "* Text Align\n",
    "* Display in the same line through `inline-block`\n",
    "* **A stock Ticker DashBoard**"
   ]
  },
  {
   "cell_type": "markdown",
   "metadata": {},
   "source": [
    "# Live Updating\n",
    "* `dcc.interval()` can update dashboard after every time interval\n",
    "* Webscrap live data from the website "
   ]
  },
  {
   "cell_type": "markdown",
   "metadata": {},
   "source": [
    "# Deployment\n",
    "**App Authorization**\n",
    "* Prevent availability to everybody\n",
    "* Done by `dash-auth` package. `dash-auth` provides 2 methods of authentication 1. `HTTP Basic Auth` 2. `Plotly OAuth`\n",
    "* `HTTP Basic Auth` has several disadvantages\n",
    "* `Plotly OAuth` Better but cost money so `HTTP Basic Auth` used here\n",
    "* Whatever username and password we select in the code, use that to access the dashboards\n",
    "\n",
    "\n",
    "\n",
    "**Deployment App to Heroku**\n",
    "* Dash/flask deployment check this [link](http://flask.pocpp.org/docs/1.0/deploying)\n",
    "* In the terminal we install dash and corrosponding libraries.\n",
    "* If we are going to use specific libraries suppose numpy/ datareader, we have to separately install them in our environment\n",
    "* `server = app.server` needs to be added in text editor for deployment\n",
    "* Havings some errors with app "
   ]
  }
 ],
 "metadata": {
  "kernelspec": {
   "display_name": "Python 3",
   "language": "python",
   "name": "python3"
  },
  "language_info": {
   "codemirror_mode": {
    "name": "ipython",
    "version": 3
   },
   "file_extension": ".py",
   "mimetype": "text/x-python",
   "name": "python",
   "nbconvert_exporter": "python",
   "pygments_lexer": "ipython3",
   "version": "3.6.4"
  },
  "varInspector": {
   "cols": {
    "lenName": 16,
    "lenType": 16,
    "lenVar": 40
   },
   "kernels_config": {
    "python": {
     "delete_cmd_postfix": "",
     "delete_cmd_prefix": "del ",
     "library": "var_list.py",
     "varRefreshCmd": "print(var_dic_list())"
    },
    "r": {
     "delete_cmd_postfix": ") ",
     "delete_cmd_prefix": "rm(",
     "library": "var_list.r",
     "varRefreshCmd": "cat(var_dic_list()) "
    }
   },
   "types_to_exclude": [
    "module",
    "function",
    "builtin_function_or_method",
    "instance",
    "_Feature"
   ],
   "window_display": false
  }
 },
 "nbformat": 4,
 "nbformat_minor": 2
}
